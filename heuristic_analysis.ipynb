{
 "cells": [
  {
   "cell_type": "markdown",
   "metadata": {},
   "source": [
    "# Heuristic Analysis"
   ]
  },
  {
   "cell_type": "markdown",
   "metadata": {},
   "source": [
    "This document is an analysis that collects results obtained at the end of the implementation of the planning air cargo problem. It is divided into two parts. First part compares and contrasts non-heuristic search result metrics (optimality, time elapsed, number of node expansions) for the three given problems. In the second part the anlysis compares and constrasts heuristic search result metrics using A* with the *ignore preconditions* and *level-sum* heuristics for the three given problem."
   ]
  },
  {
   "cell_type": "markdown",
   "metadata": {},
   "source": [
    "## Non-heuristic search results"
   ]
  },
  {
   "cell_type": "markdown",
   "metadata": {},
   "source": [
    "The following tables shows the results obtained by three non-heuristic search: breadth first search, depth first graph search and uniform cost search. Each table represents test overview for the three Air Cargo problems."
   ]
  },
  {
   "cell_type": "markdown",
   "metadata": {},
   "source": [
    "### Air Cargo Problem 1"
   ]
  },
  {
   "cell_type": "markdown",
   "metadata": {},
   "source": [
    "**Breadth First Search** is the best choice in term of time elapsed (0.03 secs) and the plan length is the optimal one (6 units):"
   ]
  },
  {
   "cell_type": "markdown",
   "metadata": {},
   "source": [
    "| Search                    |  Expansions | Goal Tests  | New Nodes  | Plan Length  | Time elapsed in seconds  |\n",
    "|---------------------------|-------------|-------------|------------|--------------|--------------------------|\n",
    "|  Breadth First Search     |       43    |       56    |       180  |     6        |           0.039          |\n",
    "|  Depth First Graph Search |       21    |       22    |        84  |    20        |           0.030          |\n",
    "|  Uniform Cost Search      |       55    |       57    |       224  |     6        |           0.042          |"
   ]
  },
  {
   "cell_type": "markdown",
   "metadata": {},
   "source": [
    "We can show the optimal plan calculated by **Breadth First Search**."
   ]
  },
  {
   "cell_type": "markdown",
   "metadata": {},
   "source": [
    "Plan: \n",
    "*Load(C1, P1, SFO)* ->\n",
    "*Load(C2, P2, JFK)* ->\n",
    "*Fly(P2, JFK, SFO)* ->\n",
    "*Unload(C2, P2, SFO)* ->\n",
    "*Fly(P1, SFO, JFK)* ->\n",
    "*Unload(C1, P1, JFK)*"
   ]
  },
  {
   "cell_type": "markdown",
   "metadata": {},
   "source": [
    "### Air Cargo Problem 2"
   ]
  },
  {
   "cell_type": "markdown",
   "metadata": {},
   "source": [
    "**Uniform Cost Search** is the best choice in term of time elapsed (11.02 secs) and the plan length is the optimal one (9 units), while **Breadth First search** still remain the search algorithm with an optimal plan."
   ]
  },
  {
   "cell_type": "markdown",
   "metadata": {},
   "source": [
    "| Search                    |  Expansions | Goal Tests  | New Nodes  | Plan Length  | Time elapsed in seconds  |\n",
    "|---------------------------|-------------|-------------|------------|--------------|--------------------------|\n",
    "|  Breadth First Search     |     3343    |     4609    |     30509  |     9        |          11.919          |\n",
    "|  Depth First Graph Search |      624    |      625    |      5602  |   619        |           3.052          |\n",
    "|  Uniform Cost Search      |     4853    |     4855    |     44041  |     9        |          11.028          |"
   ]
  },
  {
   "cell_type": "markdown",
   "metadata": {},
   "source": [
    "We can show the optimal plan calculated by **Uniform Cost Search**:"
   ]
  },
  {
   "cell_type": "markdown",
   "metadata": {},
   "source": [
    "Plan: \n",
    "*Load(C1, P1, SFO)* ->\n",
    "*Load(C2, P2, JFK)* ->\n",
    "*Load(C3, P3, ATL)* ->\n",
    "*Fly(P1, SFO, JFK)* ->\n",
    "*Fly(P2, JFK, SFO)* ->\n",
    "*Fly(P3, ATL, SFO)* ->\n",
    "*Unload(C3, P3, SFO)* ->\n",
    "*Unload(C1, P1, JFK)* ->\n",
    "*Unload(C2, P2, SFO)*"
   ]
  },
  {
   "cell_type": "markdown",
   "metadata": {},
   "source": [
    "### Air Cargo Problem 3"
   ]
  },
  {
   "cell_type": "markdown",
   "metadata": {},
   "source": [
    "**Uniform Cost Search** is the best choice in term of time elapsed (46.92 secs) and the plan length is the optimal one (12 units), while **Breadth First search** still remain the search algorithm with an optimal plan."
   ]
  },
  {
   "cell_type": "markdown",
   "metadata": {},
   "source": [
    "| Search                    |  Expansions | Goal Tests  | New Nodes  | Plan Length  | Time elapsed in seconds  |\n",
    "|---------------------------|-------------|-------------|------------|--------------|--------------------------|\n",
    "|  Breadth First Search     |    14663    |    18098    |    129631  |    12        |          88.568          |\n",
    "|  Depth First Graph Search |      408    |      409    |      3364  |   392        |           1.620          |\n",
    "|  Uniform Cost Search      |    18223    |    18225    |    159618  |    12        |          46.929          |"
   ]
  },
  {
   "cell_type": "markdown",
   "metadata": {},
   "source": [
    "We can show the optimal plan calculated by **Uniform Cost Search**:"
   ]
  },
  {
   "cell_type": "markdown",
   "metadata": {},
   "source": [
    "Plan: \n",
    "*Load(C1, P1, SFO)* ->\n",
    "*Load(C2, P2, JFK)* ->\n",
    "*Fly(P1, SFO, ATL)* ->\n",
    "*Load(C3, P1, ATL)* ->\n",
    "*Fly(P2, JFK, ORD)* ->\n",
    "*Load(C4, P2, ORD)* ->\n",
    "*Fly(P2, ORD, SFO)* ->\n",
    "*Fly(P1, ATL, JFK)* ->\n",
    "*Unload(C4, P2, SFO)* ->\n",
    "*Unload(C3, P1, JFK)* ->\n",
    "*Unload(C1, P1, JFK)* ->\n",
    "*Unload(C2, P2, SFO)*"
   ]
  },
  {
   "cell_type": "markdown",
   "metadata": {},
   "source": []
  },
  {
   "cell_type": "markdown",
   "metadata": {},
   "source": []
  },
  {
   "cell_type": "markdown",
   "metadata": {},
   "source": []
  },
  {
   "cell_type": "markdown",
   "metadata": {},
   "source": []
  },
  {
   "cell_type": "markdown",
   "metadata": {},
   "source": [
    "### Breadth First Search"
   ]
  },
  {
   "cell_type": "markdown",
   "metadata": {},
   "source": [
    "Problem1:\n",
    "Load(C1, P1, SFO)\n",
    "Load(C2, P2, JFK)\n",
    "Fly(P2, JFK, SFO)\n",
    "Unload(C2, P2, SFO)\n",
    "Fly(P1, SFO, JFK)\n",
    "Unload(C1, P1, JFK)\n",
    "\n",
    "Problem2:\n",
    "Load(C1, P1, SFO)\n",
    "Load(C2, P2, JFK)\n",
    "Load(C3, P3, ATL)\n",
    "Fly(P2, JFK, SFO)\n",
    "Unload(C2, P2, SFO)\n",
    "Fly(P1, SFO, JFK)\n",
    "Unload(C1, P1, JFK)\n",
    "Fly(P3, ATL, SFO)\n",
    "Unload(C3, P3, SFO)\n",
    "\n",
    "Problem3:\n",
    "Load(C1, P1, SFO)\n",
    "Load(C2, P2, JFK)\n",
    "Fly(P2, JFK, ORD)\n",
    "Load(C4, P2, ORD)\n",
    "Fly(P1, SFO, ATL)\n",
    "Load(C3, P1, ATL)\n",
    "Fly(P1, ATL, JFK)\n",
    "Unload(C1, P1, JFK)\n",
    "Unload(C3, P1, JFK)\n",
    "Fly(P2, ORD, SFO)\n",
    "Unload(C2, P2, SFO)\n",
    "Unload(C4, P2, SFO)\n"
   ]
  },
  {
   "cell_type": "markdown",
   "metadata": {},
   "source": [
    "| #Problem |  Expansions | Goal Tests  | New Nodes  | Plan Length  | Time elapsed in seconds  |\n",
    "|----------|-------------|-------------|------------|--------------|--------------------------|\n",
    "|    1     |       43    |       56    |       180  |     6        |           0.039          |\n",
    "|    2     |     3343    |     4609    |     30509  |     9        |          11.919          |\n",
    "|    3     |    14663    |    18098    |    129631  |    12        |          88.568          |"
   ]
  },
  {
   "cell_type": "markdown",
   "metadata": {},
   "source": [
    "### Depth First Graph Search"
   ]
  },
  {
   "cell_type": "markdown",
   "metadata": {},
   "source": [
    "Problem1: 20 actions\n",
    "Fly(P1, SFO, JFK)\n",
    "Fly(P2, JFK, SFO)\n",
    "Load(C2, P1, JFK)\n",
    "Fly(P1, JFK, SFO)\n",
    "Fly(P2, SFO, JFK)\n",
    "Unload(C2, P1, SFO)\n",
    "Fly(P1, SFO, JFK)\n",
    "Fly(P2, JFK, SFO)\n",
    "Load(C2, P2, SFO)\n",
    "Fly(P1, JFK, SFO)\n",
    "Load(C1, P2, SFO)\n",
    "Fly(P2, SFO, JFK)\n",
    "Fly(P1, SFO, JFK)\n",
    "Unload(C2, P2, JFK)\n",
    "Unload(C1, P2, JFK)\n",
    "Fly(P2, JFK, SFO)\n",
    "Load(C2, P1, JFK)\n",
    "Fly(P1, JFK, SFO)\n",
    "Fly(P2, SFO, JFK)\n",
    "Unload(C2, P1, SFO)\n",
    "\n",
    "Problem2: 619 actions\n",
    "\n",
    "\n",
    "Problem3: 392 actions\n"
   ]
  },
  {
   "cell_type": "markdown",
   "metadata": {},
   "source": [
    "| #Problem |  Expansions | Goal Tests  | New Nodes  | Plan Length  | Time elapsed in seconds  |\n",
    "|----------|-------------|-------------|------------|--------------|--------------------------|\n",
    "|    1     |       21    |       22    |        84  |    20        |           0.030          |\n",
    "|    2     |      624    |      625    |      5602  |   619        |           3.052          |\n",
    "|    3     |      408    |      409    |      3364  |   392        |           1.620          |"
   ]
  },
  {
   "cell_type": "markdown",
   "metadata": {},
   "source": [
    "### Uniform Cost Search"
   ]
  },
  {
   "cell_type": "markdown",
   "metadata": {},
   "source": [
    "Problem1: 6 actions\n",
    "Load(C1, P1, SFO)\n",
    "Load(C2, P2, JFK)\n",
    "Fly(P1, SFO, JFK)\n",
    "Fly(P2, JFK, SFO)\n",
    "Unload(C1, P1, JFK)\n",
    "Unload(C2, P2, SFO)\n",
    "\n",
    "Problem2: 9 actions\n",
    "Load(C1, P1, SFO)\n",
    "Load(C2, P2, JFK)\n",
    "Load(C3, P3, ATL)\n",
    "Fly(P1, SFO, JFK)\n",
    "Fly(P2, JFK, SFO)\n",
    "Fly(P3, ATL, SFO)\n",
    "Unload(C3, P3, SFO)\n",
    "Unload(C1, P1, JFK)\n",
    "Unload(C2, P2, SFO)\n",
    "\n",
    "\n",
    "Problem3: 12 actions\n",
    "Load(C1, P1, SFO)\n",
    "Load(C2, P2, JFK)\n",
    "Fly(P1, SFO, ATL)\n",
    "Load(C3, P1, ATL)\n",
    "Fly(P2, JFK, ORD)\n",
    "Load(C4, P2, ORD)\n",
    "Fly(P2, ORD, SFO)\n",
    "Fly(P1, ATL, JFK)\n",
    "Unload(C4, P2, SFO)\n",
    "Unload(C3, P1, JFK)\n",
    "Unload(C1, P1, JFK)\n",
    "Unload(C2, P2, SFO)"
   ]
  },
  {
   "cell_type": "markdown",
   "metadata": {},
   "source": [
    "| #Problem |  Expansions | Goal Tests  | New Nodes  | Plan Length  | Time elapsed in seconds  |\n",
    "|----------|-------------|-------------|------------|--------------|--------------------------|\n",
    "|    1     |       55    |       57    |       224  |     6        |           0.042          |\n",
    "|    2     |     4853    |     4855    |     44041  |     9        |          11.028          |\n",
    "|    3     |    18223    |    18225    |    159618  |    12        |          46.929          |"
   ]
  }
 ],
 "metadata": {
  "kernelspec": {
   "display_name": "Python 3",
   "language": "python",
   "name": "python3"
  },
  "language_info": {
   "codemirror_mode": {
    "name": "ipython",
    "version": 3
   },
   "file_extension": ".py",
   "mimetype": "text/x-python",
   "name": "python",
   "nbconvert_exporter": "python",
   "pygments_lexer": "ipython3",
   "version": "3.6.1"
  }
 },
 "nbformat": 4,
 "nbformat_minor": 2
}
