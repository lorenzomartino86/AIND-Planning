{
 "cells": [
  {
   "cell_type": "markdown",
   "metadata": {},
   "source": [
    "# Research Review - Reactive Planning Systems"
   ]
  },
  {
   "cell_type": "markdown",
   "metadata": {},
   "source": [
    "This document provides a brief report of the relationships between three developments and their impact on the artificial intelligence field. "
   ]
  },
  {
   "cell_type": "markdown",
   "metadata": {},
   "source": [
    "## PENGI"
   ]
  },
  {
   "cell_type": "markdown",
   "metadata": {},
   "source": [
    "PENGI is a simulated computer game designed by Philip E. Agre and David Chapman [1]. In 1987 they developed a program that engage in complex, apparently planful activity without requiring explicit models of the world. This machine could play a fully observable video game by using Boolean circuits combined with a *visual* representation of current goals and the agent's internal state [3]. Agre observed that most everyday activity is simple *routine*, it requires little new abstract reasoning. Most tasks, once learned, can be accomplished in a routine way with little variation. Hence Agre proposed that an efficient agent architecture could be based on the idea of *running arguments*. The idea is that as most decisions are routine, they can be encoded into a low-level structure (digital circuits) which only needs periodic updating to handle new kinds of problems [1]. With these developments PENGI program had a great impact to build the first reactive planning systems [3]."
   ]
  },
  {
   "cell_type": "markdown",
   "metadata": {},
   "source": [
    "## GENERAL PROBLEM SOLVER (GPS)"
   ]
  },
  {
   "cell_type": "markdown",
   "metadata": {},
   "source": [
    "The General Problem Solver was a program built by Newell, Shaw and Simon in 1959 [3]. It was intended to work as a universal problem solver machine. GPS can solve any problem that can be expressed as a set of well-formed formulas and that it consists of a directed graph with one of more axioms and desired conclusions (goals).\n",
    "It was implemented in the third-order programming language IPL [2]. GPS solved simple problem that can be sufficiently formalized, but it couldn't solve any real-world problem because it was computationally unteneable. The GPS paradigm evolved into the SOAR architecture [2]."
   ]
  },
  {
   "cell_type": "markdown",
   "metadata": {},
   "source": [
    "## STanford Research Institute Problem Solver (STRIPS) "
   ]
  },
  {
   "cell_type": "markdown",
   "metadata": {},
   "source": [
    "STRIPS was the first major planning system. This automated planner was developed by Richard Fikes and Nils Nilsson in 1971 [4]. In STRIPS a world model is represented by a set of well-formed formulas of the first-order predicate calculus. The separation between the process of theorem proving nad process of searching through a space of world model allows to employ separate strategies for these two activities and improve the overall performance of the system [4]. The most important impact to artificial intelligence is the representation language used by STRIPS [3]."
   ]
  },
  {
   "cell_type": "markdown",
   "metadata": {},
   "source": [
    "## References"
   ]
  },
  {
   "cell_type": "markdown",
   "metadata": {},
   "source": [
    "* [1] Philip E. Agre, David Chapman (1987). PENGI: An Implementation of a Theory of Activity @ https://aaai.org/Papers/AAAI/1987/AAAI87-048.pdf"
   ]
  },
  {
   "cell_type": "markdown",
   "metadata": {},
   "source": [
    "* [2] A. Newell, J. C. Shaw, H. A. Simon (1959). Report on a general problem solving program."
   ]
  },
  {
   "cell_type": "markdown",
   "metadata": {},
   "source": [
    "* [3] Stuart J. Russel, Peter Norvig (2010). Artificial Intelligence: A Modern Approach (3rd edition)."
   ]
  },
  {
   "cell_type": "markdown",
   "metadata": {},
   "source": [
    "* [4] Richard Fikes, Nils Nilsson (1971). STRIPS: A new approach to the application of theorem proving to problem solving "
   ]
  }
 ],
 "metadata": {
  "kernelspec": {
   "display_name": "Python 3",
   "language": "python",
   "name": "python3"
  },
  "language_info": {
   "codemirror_mode": {
    "name": "ipython",
    "version": 3.0
   },
   "file_extension": ".py",
   "mimetype": "text/x-python",
   "name": "python",
   "nbconvert_exporter": "python",
   "pygments_lexer": "ipython3",
   "version": "3.6.1"
  }
 },
 "nbformat": 4,
 "nbformat_minor": 0
}