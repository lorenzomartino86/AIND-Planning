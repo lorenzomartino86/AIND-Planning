{
 "cells": [
  {
   "cell_type": "markdown",
   "metadata": {},
   "source": [
    "# Heuristic Analysis"
   ]
  },
  {
   "cell_type": "markdown",
   "metadata": {},
   "source": [
    "This document is an analysis that collects results obtained at the end of the implementation of the planning air cargo problem. It is divided into two parts. First part compares and contrasts non-heuristic search result metrics (optimality, time elapsed, number of node expansions) for the three given problems. In the second part the anlysis compares and constrasts heuristic search result metrics using A* with the *ignore preconditions* and *level-sum* heuristics for the three given problem."
   ]
  },
  {
   "cell_type": "markdown",
   "metadata": {},
   "source": [
    "## Non-heuristic search results"
   ]
  },
  {
   "cell_type": "markdown",
   "metadata": {},
   "source": [
    "The following tables shows the results obtained by three non-heuristic search: breadth first search, depth first graph search and uniform cost search. Each table represents test overview for the three Air Cargo problems."
   ]
  },
  {
   "cell_type": "markdown",
   "metadata": {},
   "source": [
    "### Air Cargo Problem 1"
   ]
  },
  {
   "cell_type": "markdown",
   "metadata": {},
   "source": [
    "Both **Breadh First Search** and **Uniform Cost Search** are optimals with a Plan composed by 6 actions, but **Breadth First Search** is the best choice in term of time elapsed (0.03 secs), expansions (43) and new nodes (180). "
   ]
  },
  {
   "cell_type": "markdown",
   "metadata": {},
   "source": [
    "| Search                    |  Expansions | Goal Tests  | New Nodes  | Plan Length  | Time elapsed in seconds  |\n",
    "|---------------------------|-------------|-------------|------------|--------------|--------------------------|\n",
    "|  Breadth First Search     |       43    |       56    |       180  |     6        |           0.039          |\n",
    "|  Depth First Graph Search |       21    |       22    |        84  |    20        |           0.030          |\n",
    "|  Uniform Cost Search      |       55    |       57    |       224  |     6        |           0.042          |"
   ]
  },
  {
   "cell_type": "markdown",
   "metadata": {},
   "source": [
    "We can show the optimal plan calculated by **Breadth First Search**.\n"
   ]
  },
  {
   "cell_type": "markdown",
   "metadata": {},
   "source": [
    "*Load(C1, P1, SFO)* ->\n",
    "*Load(C2, P2, JFK)* ->\n",
    "*Fly(P2, JFK, SFO)* ->\n",
    "*Unload(C2, P2, SFO)* ->\n",
    "*Fly(P1, SFO, JFK)* ->\n",
    "*Unload(C1, P1, JFK)*"
   ]
  },
  {
   "cell_type": "markdown",
   "metadata": {},
   "source": [
    "### Air Cargo Problem 2"
   ]
  },
  {
   "cell_type": "markdown",
   "metadata": {},
   "source": [
    "**Uniform Cost Search** is the best choice in term of time elapsed (11.02 secs) and the plan length is the optimal one (9 units), while **Breadth First search** still remain the search algorithm with an optimal plan."
   ]
  },
  {
   "cell_type": "markdown",
   "metadata": {},
   "source": [
    "| Search                    |  Expansions | Goal Tests  | New Nodes  | Plan Length  | Time elapsed in seconds  |\n",
    "|---------------------------|-------------|-------------|------------|--------------|--------------------------|\n",
    "|  Breadth First Search     |     3343    |     4609    |     30509  |     9        |          11.919          |\n",
    "|  Depth First Graph Search |      624    |      625    |      5602  |   619        |           3.052          |\n",
    "|  Uniform Cost Search      |     4853    |     4855    |     44041  |     9        |          11.028          |"
   ]
  },
  {
   "cell_type": "markdown",
   "metadata": {},
   "source": [
    "We can show the optimal plan calculated by **Uniform Cost Search**:"
   ]
  },
  {
   "cell_type": "markdown",
   "metadata": {},
   "source": [
    "Plan: \n",
    "*Load(C1, P1, SFO)* ->\n",
    "*Load(C2, P2, JFK)* ->\n",
    "*Load(C3, P3, ATL)* ->\n",
    "*Fly(P1, SFO, JFK)* ->\n",
    "*Fly(P2, JFK, SFO)* ->\n",
    "*Fly(P3, ATL, SFO)* ->\n",
    "*Unload(C3, P3, SFO)* ->\n",
    "*Unload(C1, P1, JFK)* ->\n",
    "*Unload(C2, P2, SFO)*"
   ]
  },
  {
   "cell_type": "markdown",
   "metadata": {},
   "source": [
    "### Air Cargo Problem 3"
   ]
  },
  {
   "cell_type": "markdown",
   "metadata": {},
   "source": [
    "**Uniform Cost Search** is the best choice in term of time elapsed (46.92 secs) and the plan length is the optimal one (12 units), while **Breadth First search** still remain the search algorithm with an optimal plan."
   ]
  },
  {
   "cell_type": "markdown",
   "metadata": {},
   "source": [
    "| Search                    |  Expansions | Goal Tests  | New Nodes  | Plan Length  | Time elapsed in seconds  |\n",
    "|---------------------------|-------------|-------------|------------|--------------|--------------------------|\n",
    "|  Breadth First Search     |    14663    |    18098    |    129631  |    12        |          88.568          |\n",
    "|  Depth First Graph Search |      408    |      409    |      3364  |   392        |           1.620          |\n",
    "|  Uniform Cost Search      |    18223    |    18225    |    159618  |    12        |          46.929          |"
   ]
  },
  {
   "cell_type": "markdown",
   "metadata": {},
   "source": [
    "We can show the optimal plan calculated by **Uniform Cost Search**:"
   ]
  },
  {
   "cell_type": "markdown",
   "metadata": {},
   "source": [
    "Plan: \n",
    "*Load(C1, P1, SFO)* ->\n",
    "*Load(C2, P2, JFK)* ->\n",
    "*Fly(P1, SFO, ATL)* ->\n",
    "*Load(C3, P1, ATL)* ->\n",
    "*Fly(P2, JFK, ORD)* ->\n",
    "*Load(C4, P2, ORD)* ->\n",
    "*Fly(P2, ORD, SFO)* ->\n",
    "*Fly(P1, ATL, JFK)* ->\n",
    "*Unload(C4, P2, SFO)* ->\n",
    "*Unload(C3, P1, JFK)* ->\n",
    "*Unload(C1, P1, JFK)* ->\n",
    "*Unload(C2, P2, SFO)*"
   ]
  },
  {
   "cell_type": "markdown",
   "metadata": {},
   "source": [
    "## Heuristic search results"
   ]
  },
  {
   "cell_type": "markdown",
   "metadata": {},
   "source": [
    "The following tables shows the results obtained by two heuristic search: **Astar** with the *ignore preconditions* heurisic and **Astar** with the *level-sum* heuristic. Each table represents test overview applied on the three Air Cargo problems."
   ]
  },
  {
   "cell_type": "markdown",
   "metadata": {},
   "source": [
    "### Air Cargo Problem 1"
   ]
  },
  {
   "cell_type": "markdown",
   "metadata": {},
   "source": []
  },
  {
   "cell_type": "markdown",
   "metadata": {},
   "source": [
    "| Search                      |  Expansions | Goal Tests  | New Nodes  | Plan Length  | Time elapsed in seconds  |\n",
    "|-----------------------------|-------------|-------------|------------|--------------|--------------------------|\n",
    "| A* with ignore preconditions|       41    |       43    |       170  |     6        |           0.044          |\n",
    "| A* with the level-sum       |       39    |       41    |       158  |     6        |           0.967          |"
   ]
  },
  {
   "cell_type": "markdown",
   "metadata": {},
   "source": []
  },
  {
   "cell_type": "markdown",
   "metadata": {},
   "source": [
    "win A* with ignore preconditions\n"
   ]
  },
  {
   "cell_type": "markdown",
   "metadata": {},
   "source": [
    "### Air Cargo Problem 2"
   ]
  },
  {
   "cell_type": "markdown",
   "metadata": {},
   "source": []
  },
  {
   "cell_type": "markdown",
   "metadata": {},
   "source": [
    "| Search                      |  Expansions | Goal Tests  | New Nodes  | Plan Length  | Time elapsed in seconds  |\n",
    "|-----------------------------|-------------|-------------|------------|--------------|--------------------------|\n",
    "| A* with ignore preconditions|     1450    |     1452    |     13303  |     9        |           3.632          |\n",
    "| A* with the level-sum       |     1129    |     1131    |     10232  |     9        |         411.453          |"
   ]
  },
  {
   "cell_type": "markdown",
   "metadata": {},
   "source": [
    "A* with ignore preconditions:\n",
    "Load(C3, P3, ATL)\n",
    "Fly(P3, ATL, SFO)\n",
    "Unload(C3, P3, SFO)\n",
    "Load(C1, P1, SFO)\n",
    "Fly(P1, SFO, JFK)\n",
    "Unload(C1, P1, JFK)\n",
    "Load(C2, P2, JFK)\n",
    "Fly(P2, JFK, SFO)\n",
    "Unload(C2, P2, SFO)"
   ]
  },
  {
   "cell_type": "markdown",
   "metadata": {},
   "source": [
    "A* with the level sum:"
   ]
  },
  {
   "cell_type": "markdown",
   "metadata": {},
   "source": [
    "### Air Cargo Problem 3"
   ]
  },
  {
   "cell_type": "markdown",
   "metadata": {},
   "source": []
  },
  {
   "cell_type": "markdown",
   "metadata": {},
   "source": [
    "| Search                      |  Expansions | Goal Tests  | New Nodes  | Plan Length  | Time elapsed in seconds  |\n",
    "|-----------------------------|-------------|-------------|------------|--------------|--------------------------|\n",
    "| A* with ignore preconditions|         |         |       |             |                     |\n",
    "| A* with the level-sum       |           |           |         |             |                    |"
   ]
  }
 ],
 "metadata": {
  "kernelspec": {
   "display_name": "Python 3",
   "language": "python",
   "name": "python3"
  },
  "language_info": {
   "codemirror_mode": {
    "name": "ipython",
    "version": 3.0
   },
   "file_extension": ".py",
   "mimetype": "text/x-python",
   "name": "python",
   "nbconvert_exporter": "python",
   "pygments_lexer": "ipython3",
   "version": "3.6.1"
  }
 },
 "nbformat": 4,
 "nbformat_minor": 0
}